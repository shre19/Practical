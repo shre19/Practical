{
 "cells": [
  {
   "cell_type": "code",
   "execution_count": 2,
   "id": "615e5f1a",
   "metadata": {},
   "outputs": [],
   "source": [
    "import pandas as pd\n",
    "import numpy as np"
   ]
  },
  {
   "cell_type": "code",
   "execution_count": 3,
   "id": "b5f29e26",
   "metadata": {},
   "outputs": [],
   "source": [
    "df = pd.read_csv('Assign2_data.csv')"
   ]
  },
  {
   "cell_type": "code",
   "execution_count": 4,
   "id": "f244e005",
   "metadata": {},
   "outputs": [
    {
     "data": {
      "text/html": [
       "<div>\n",
       "<style scoped>\n",
       "    .dataframe tbody tr th:only-of-type {\n",
       "        vertical-align: middle;\n",
       "    }\n",
       "\n",
       "    .dataframe tbody tr th {\n",
       "        vertical-align: top;\n",
       "    }\n",
       "\n",
       "    .dataframe thead th {\n",
       "        text-align: right;\n",
       "    }\n",
       "</style>\n",
       "<table border=\"1\" class=\"dataframe\">\n",
       "  <thead>\n",
       "    <tr style=\"text-align: right;\">\n",
       "      <th></th>\n",
       "      <th>Roll_No</th>\n",
       "      <th>First Name</th>\n",
       "      <th>Last Name</th>\n",
       "      <th>Gender</th>\n",
       "      <th>Age</th>\n",
       "      <th>Total Subjects</th>\n",
       "      <th>Sub1</th>\n",
       "      <th>Sub2</th>\n",
       "      <th>Sub3</th>\n",
       "      <th>Sub4</th>\n",
       "      <th>Percentage</th>\n",
       "    </tr>\n",
       "  </thead>\n",
       "  <tbody>\n",
       "    <tr>\n",
       "      <th>0</th>\n",
       "      <td>1</td>\n",
       "      <td>Ethan</td>\n",
       "      <td>Smith</td>\n",
       "      <td>M</td>\n",
       "      <td>21</td>\n",
       "      <td>4</td>\n",
       "      <td>66.0</td>\n",
       "      <td>68.0</td>\n",
       "      <td>70.0</td>\n",
       "      <td>93.0</td>\n",
       "      <td>74.250000</td>\n",
       "    </tr>\n",
       "    <tr>\n",
       "      <th>1</th>\n",
       "      <td>2</td>\n",
       "      <td>Jacob</td>\n",
       "      <td>Johnson</td>\n",
       "      <td>M</td>\n",
       "      <td>20</td>\n",
       "      <td>4</td>\n",
       "      <td>90.0</td>\n",
       "      <td>78.0</td>\n",
       "      <td>61.0</td>\n",
       "      <td>69.0</td>\n",
       "      <td>74.500000</td>\n",
       "    </tr>\n",
       "    <tr>\n",
       "      <th>2</th>\n",
       "      <td>3</td>\n",
       "      <td>Logan</td>\n",
       "      <td>Williams</td>\n",
       "      <td>M</td>\n",
       "      <td>19</td>\n",
       "      <td>4</td>\n",
       "      <td>67.0</td>\n",
       "      <td>NaN</td>\n",
       "      <td>90.0</td>\n",
       "      <td>67.0</td>\n",
       "      <td>74.666667</td>\n",
       "    </tr>\n",
       "    <tr>\n",
       "      <th>3</th>\n",
       "      <td>4</td>\n",
       "      <td>Jack</td>\n",
       "      <td>Brown</td>\n",
       "      <td>M</td>\n",
       "      <td>21</td>\n",
       "      <td>4</td>\n",
       "      <td>10.0</td>\n",
       "      <td>64.0</td>\n",
       "      <td>69.0</td>\n",
       "      <td>72.0</td>\n",
       "      <td>53.750000</td>\n",
       "    </tr>\n",
       "    <tr>\n",
       "      <th>4</th>\n",
       "      <td>5</td>\n",
       "      <td>Emily</td>\n",
       "      <td>Jones</td>\n",
       "      <td>F</td>\n",
       "      <td>21</td>\n",
       "      <td>4</td>\n",
       "      <td>67.0</td>\n",
       "      <td>60.0</td>\n",
       "      <td>NaN</td>\n",
       "      <td>84.0</td>\n",
       "      <td>70.333333</td>\n",
       "    </tr>\n",
       "  </tbody>\n",
       "</table>\n",
       "</div>"
      ],
      "text/plain": [
       "   Roll_No First Name Last Name Gender  Age  Total Subjects  Sub1  Sub2  Sub3  \\\n",
       "0        1      Ethan     Smith      M   21               4  66.0  68.0  70.0   \n",
       "1        2      Jacob   Johnson      M   20               4  90.0  78.0  61.0   \n",
       "2        3      Logan  Williams      M   19               4  67.0   NaN  90.0   \n",
       "3        4       Jack     Brown      M   21               4  10.0  64.0  69.0   \n",
       "4        5      Emily     Jones      F   21               4  67.0  60.0   NaN   \n",
       "\n",
       "   Sub4  Percentage  \n",
       "0  93.0   74.250000  \n",
       "1  69.0   74.500000  \n",
       "2  67.0   74.666667  \n",
       "3  72.0   53.750000  \n",
       "4  84.0   70.333333  "
      ]
     },
     "execution_count": 4,
     "metadata": {},
     "output_type": "execute_result"
    }
   ],
   "source": [
    "df.head()"
   ]
  },
  {
   "cell_type": "code",
   "execution_count": 5,
   "id": "e96c6208",
   "metadata": {},
   "outputs": [
    {
     "data": {
      "text/plain": [
       "Roll_No           0\n",
       "First Name        0\n",
       "Last Name         0\n",
       "Gender            0\n",
       "Age               0\n",
       "Total Subjects    0\n",
       "Sub1              6\n",
       "Sub2              9\n",
       "Sub3              9\n",
       "Sub4              4\n",
       "Percentage        0\n",
       "dtype: int64"
      ]
     },
     "execution_count": 5,
     "metadata": {},
     "output_type": "execute_result"
    }
   ],
   "source": [
    "df.isnull().sum()"
   ]
  },
  {
   "cell_type": "code",
   "execution_count": 6,
   "id": "4503ea4a",
   "metadata": {},
   "outputs": [
    {
     "data": {
      "text/html": [
       "<div>\n",
       "<style scoped>\n",
       "    .dataframe tbody tr th:only-of-type {\n",
       "        vertical-align: middle;\n",
       "    }\n",
       "\n",
       "    .dataframe tbody tr th {\n",
       "        vertical-align: top;\n",
       "    }\n",
       "\n",
       "    .dataframe thead th {\n",
       "        text-align: right;\n",
       "    }\n",
       "</style>\n",
       "<table border=\"1\" class=\"dataframe\">\n",
       "  <thead>\n",
       "    <tr style=\"text-align: right;\">\n",
       "      <th></th>\n",
       "      <th>Roll_No</th>\n",
       "      <th>Age</th>\n",
       "      <th>Total Subjects</th>\n",
       "      <th>Sub1</th>\n",
       "      <th>Sub2</th>\n",
       "      <th>Sub3</th>\n",
       "      <th>Sub4</th>\n",
       "      <th>Percentage</th>\n",
       "    </tr>\n",
       "  </thead>\n",
       "  <tbody>\n",
       "    <tr>\n",
       "      <th>count</th>\n",
       "      <td>98.000000</td>\n",
       "      <td>98.000000</td>\n",
       "      <td>98.0</td>\n",
       "      <td>92.00000</td>\n",
       "      <td>89.000000</td>\n",
       "      <td>89.000000</td>\n",
       "      <td>94.000000</td>\n",
       "      <td>98.000000</td>\n",
       "    </tr>\n",
       "    <tr>\n",
       "      <th>mean</th>\n",
       "      <td>49.500000</td>\n",
       "      <td>20.387755</td>\n",
       "      <td>4.0</td>\n",
       "      <td>75.75000</td>\n",
       "      <td>75.853933</td>\n",
       "      <td>75.764045</td>\n",
       "      <td>84.212766</td>\n",
       "      <td>78.018707</td>\n",
       "    </tr>\n",
       "    <tr>\n",
       "      <th>std</th>\n",
       "      <td>28.434134</td>\n",
       "      <td>1.475802</td>\n",
       "      <td>0.0</td>\n",
       "      <td>49.34597</td>\n",
       "      <td>26.742693</td>\n",
       "      <td>22.815476</td>\n",
       "      <td>101.838357</td>\n",
       "      <td>30.946267</td>\n",
       "    </tr>\n",
       "    <tr>\n",
       "      <th>min</th>\n",
       "      <td>1.000000</td>\n",
       "      <td>12.000000</td>\n",
       "      <td>4.0</td>\n",
       "      <td>-60.00000</td>\n",
       "      <td>-40.000000</td>\n",
       "      <td>-99.000000</td>\n",
       "      <td>-90.000000</td>\n",
       "      <td>29.000000</td>\n",
       "    </tr>\n",
       "    <tr>\n",
       "      <th>25%</th>\n",
       "      <td>25.250000</td>\n",
       "      <td>20.000000</td>\n",
       "      <td>4.0</td>\n",
       "      <td>65.00000</td>\n",
       "      <td>66.000000</td>\n",
       "      <td>68.000000</td>\n",
       "      <td>69.250000</td>\n",
       "      <td>71.500000</td>\n",
       "    </tr>\n",
       "    <tr>\n",
       "      <th>50%</th>\n",
       "      <td>49.500000</td>\n",
       "      <td>21.000000</td>\n",
       "      <td>4.0</td>\n",
       "      <td>72.00000</td>\n",
       "      <td>76.000000</td>\n",
       "      <td>79.000000</td>\n",
       "      <td>78.000000</td>\n",
       "      <td>76.250000</td>\n",
       "    </tr>\n",
       "    <tr>\n",
       "      <th>75%</th>\n",
       "      <td>73.750000</td>\n",
       "      <td>21.000000</td>\n",
       "      <td>4.0</td>\n",
       "      <td>83.50000</td>\n",
       "      <td>88.000000</td>\n",
       "      <td>89.000000</td>\n",
       "      <td>85.000000</td>\n",
       "      <td>80.312500</td>\n",
       "    </tr>\n",
       "    <tr>\n",
       "      <th>max</th>\n",
       "      <td>98.000000</td>\n",
       "      <td>22.000000</td>\n",
       "      <td>4.0</td>\n",
       "      <td>400.00000</td>\n",
       "      <td>250.000000</td>\n",
       "      <td>95.000000</td>\n",
       "      <td>1000.000000</td>\n",
       "      <td>313.500000</td>\n",
       "    </tr>\n",
       "  </tbody>\n",
       "</table>\n",
       "</div>"
      ],
      "text/plain": [
       "         Roll_No        Age  Total Subjects       Sub1        Sub2       Sub3  \\\n",
       "count  98.000000  98.000000            98.0   92.00000   89.000000  89.000000   \n",
       "mean   49.500000  20.387755             4.0   75.75000   75.853933  75.764045   \n",
       "std    28.434134   1.475802             0.0   49.34597   26.742693  22.815476   \n",
       "min     1.000000  12.000000             4.0  -60.00000  -40.000000 -99.000000   \n",
       "25%    25.250000  20.000000             4.0   65.00000   66.000000  68.000000   \n",
       "50%    49.500000  21.000000             4.0   72.00000   76.000000  79.000000   \n",
       "75%    73.750000  21.000000             4.0   83.50000   88.000000  89.000000   \n",
       "max    98.000000  22.000000             4.0  400.00000  250.000000  95.000000   \n",
       "\n",
       "              Sub4  Percentage  \n",
       "count    94.000000   98.000000  \n",
       "mean     84.212766   78.018707  \n",
       "std     101.838357   30.946267  \n",
       "min     -90.000000   29.000000  \n",
       "25%      69.250000   71.500000  \n",
       "50%      78.000000   76.250000  \n",
       "75%      85.000000   80.312500  \n",
       "max    1000.000000  313.500000  "
      ]
     },
     "execution_count": 6,
     "metadata": {},
     "output_type": "execute_result"
    }
   ],
   "source": [
    "df.describe()"
   ]
  },
  {
   "cell_type": "code",
   "execution_count": 7,
   "id": "032259b8",
   "metadata": {},
   "outputs": [
    {
     "name": "stdout",
     "output_type": "stream",
     "text": [
      "<class 'pandas.core.frame.DataFrame'>\n",
      "RangeIndex: 98 entries, 0 to 97\n",
      "Data columns (total 11 columns):\n",
      " #   Column          Non-Null Count  Dtype  \n",
      "---  ------          --------------  -----  \n",
      " 0   Roll_No         98 non-null     int64  \n",
      " 1   First Name      98 non-null     object \n",
      " 2   Last Name       98 non-null     object \n",
      " 3   Gender          98 non-null     object \n",
      " 4   Age             98 non-null     int64  \n",
      " 5   Total Subjects  98 non-null     int64  \n",
      " 6   Sub1            92 non-null     float64\n",
      " 7   Sub2            89 non-null     float64\n",
      " 8   Sub3            89 non-null     float64\n",
      " 9   Sub4            94 non-null     float64\n",
      " 10  Percentage      98 non-null     float64\n",
      "dtypes: float64(5), int64(3), object(3)\n",
      "memory usage: 8.5+ KB\n"
     ]
    }
   ],
   "source": [
    "df.info()"
   ]
  },
  {
   "cell_type": "code",
   "execution_count": 9,
   "id": "c8c4a660",
   "metadata": {},
   "outputs": [],
   "source": [
    "for i in range(df.shape[0]):\n",
    "    if(df.Sub1[i]<0 or df.Sub1[i]>100):\n",
    "        df.Sub1[i] = (np.nan)\n",
    "    if(df.Sub2[i]<0 or df.Sub2[i]>100):\n",
    "        df.Sub2[i] = (np.nan)\n",
    "    if(df.Sub3[i]<0 or df.Sub3[i]>100):\n",
    "        df.Sub3[i] = (np.nan)\n",
    "    if(df.Sub4[i]<0 or df.Sub4[i]>100):\n",
    "        df.Sub4[i] = (np.nan)\n",
    "    "
   ]
  },
  {
   "cell_type": "code",
   "execution_count": 10,
   "id": "28f50bb0",
   "metadata": {},
   "outputs": [
    {
     "data": {
      "text/plain": [
       "<AxesSubplot:>"
      ]
     },
     "execution_count": 10,
     "metadata": {},
     "output_type": "execute_result"
    },
    {
     "data": {
      "image/png": "[encoded data removed]",
      "text/plain": [
       "<Figure size 432x288 with 1 Axes>"
      ]
     },
     "metadata": {
      "needs_background": "light"
     },
     "output_type": "display_data"
    }
   ],
   "source": [
    "df.boxplot(column=['Sub1'])"
   ]
  },
  {
   "cell_type": "code",
   "execution_count": 11,
   "id": "057a65f6",
   "metadata": {},
   "outputs": [
    {
     "data": {
      "text/plain": [
       "<AxesSubplot:>"
      ]
     },
     "execution_count": 11,
     "metadata": {},
     "output_type": "execute_result"
    },
    {
     "data": {
      "image/png": "[encoded data removed]",
      "text/plain": [
       "<Figure size 432x288 with 1 Axes>"
      ]
     },
     "metadata": {
      "needs_background": "light"
     },
     "output_type": "display_data"
    }
   ],
   "source": [
    "df.boxplot(column=['Sub2'])"
   ]
  },
  {
   "cell_type": "code",
   "execution_count": 12,
   "id": "0b63c833",
   "metadata": {},
   "outputs": [
    {
     "data": {
      "text/plain": [
       "<AxesSubplot:>"
      ]
     },
     "execution_count": 12,
     "metadata": {},
     "output_type": "execute_result"
    },
    {
     "data": {
      "image/png": "[encoded data removed]",
      "text/plain": [
       "<Figure size 432x288 with 1 Axes>"
      ]
     },
     "metadata": {
      "needs_background": "light"
     },
     "output_type": "display_data"
    }
   ],
   "source": [
    "df.boxplot(column='Sub3')"
   ]
  },
  {
   "cell_type": "code",
   "execution_count": 13,
   "id": "952d5b14",
   "metadata": {},
   "outputs": [
    {
     "data": {
      "text/plain": [
       "<AxesSubplot:>"
      ]
     },
     "execution_count": 13,
     "metadata": {},
     "output_type": "execute_result"
    },
    {
     "data": {
      "image/png": "[encoded data removed]",
      "text/plain": [
       "<Figure size 432x288 with 1 Axes>"
      ]
     },
     "metadata": {
      "needs_background": "light"
     },
     "output_type": "display_data"
    }
   ],
   "source": [
    "df.boxplot(column='Sub4')"
   ]
  },
  {
   "cell_type": "code",
   "execution_count": 14,
   "id": "54c56185",
   "metadata": {},
   "outputs": [
    {
     "data": {
      "text/plain": [
       "<AxesSubplot:>"
      ]
     },
     "execution_count": 14,
     "metadata": {},
     "output_type": "execute_result"
    },
    {
     "data": {
      "image/png": "[encoded data removed]",
      "text/plain": [
       "<Figure size 432x288 with 1 Axes>"
      ]
     },
     "metadata": {
      "needs_background": "light"
     },
     "output_type": "display_data"
    }
   ],
   "source": [
    "df.boxplot(column='Percentage')"
   ]
  },
  {
   "cell_type": "code",
   "execution_count": 21,
   "id": "5701cb0c",
   "metadata": {},
   "outputs": [],
   "source": [
    "Q1=df['Sub1'].quantile(0.25)\n",
    "Q3=df['Sub1'].quantile(0.75)\n",
    "IQR=Q3-Q1\n",
    "lower_limit=Q1-1.5*IQR\n",
    "upper_limit=Q3+1.5*IQR\n",
    "median = df.loc[(df['Sub1']>lower_limit) & (df['Sub1']<upper_limit), 'Sub1'].median()\n",
    "df['Sub1']=np.where((df['Sub1']<lower_limit) | (df['Sub1']>upper_limit) , median, df['Sub1'])"
   ]
  },
  {
   "cell_type": "code",
   "execution_count": 22,
   "id": "e79eb4df",
   "metadata": {},
   "outputs": [
    {
     "data": {
      "text/plain": [
       "<AxesSubplot:>"
      ]
     },
     "execution_count": 22,
     "metadata": {},
     "output_type": "execute_result"
    },
    {
     "data": {
      "image/png": "[encoded data removed]",
      "text/plain": [
       "<Figure size 432x288 with 1 Axes>"
      ]
     },
     "metadata": {
      "needs_background": "light"
     },
     "output_type": "display_data"
    }
   ],
   "source": [
    "df.boxplot(column=\"Sub1\")"
   ]
  },
  {
   "cell_type": "code",
   "execution_count": 27,
   "id": "b4183633",
   "metadata": {},
   "outputs": [],
   "source": [
    "Q1 = df['Sub2'].quantile(0.25)\n",
    "Q3 = df['Sub2'].quantile(0.75)\n",
    "IQR = Q3-Q1\n",
    "lower_limit = Q1-1.5*IQR\n",
    "upper_limit = Q3+1.5*IQR\n",
    "med = df.loc[(df['Sub2']>lower_limit)&(df['Sub2']<upper_limit), 'Sub2'].median()\n",
    "df['Sub2'] = np.where((df['Sub2']<lower_limit)|(df['Sub2']>upper_limit), med, df['Sub2'])"
   ]
  },
  {
   "cell_type": "code",
   "execution_count": 28,
   "id": "58e40040",
   "metadata": {},
   "outputs": [
    {
     "data": {
      "text/plain": [
       "<AxesSubplot:>"
      ]
     },
     "execution_count": 28,
     "metadata": {},
     "output_type": "execute_result"
    },
    {
     "data": {
      "image/png": "[encoded data removed]",
      "text/plain": [
       "<Figure size 432x288 with 1 Axes>"
      ]
     },
     "metadata": {
      "needs_background": "light"
     },
     "output_type": "display_data"
    }
   ],
   "source": [
    "df.boxplot(column = 'Sub2')"
   ]
  },
  {
   "cell_type": "code",
   "execution_count": 29,
   "id": "21740f8b",
   "metadata": {},
   "outputs": [],
   "source": [
    "Q1 = df['Sub3'].quantile(0.25)\n",
    "Q2 = df['Sub3'].quantile(0.75)\n",
    "IQR = Q3-Q1\n",
    "lower_limit = Q1-1.5*IQR\n",
    "upper_limit = Q3+1.5*IQR\n",
    "med = df.loc[(df['Sub3']>lower_limit)&(df['Sub3']<upper_limit), 'Sub3'].median()\n",
    "df['Sub3'] = np.where((df['Sub3']<lower_limit)|(df['Sub3']>upper_limit), med, df['Sub3'])"
   ]
  },
  {
   "cell_type": "code",
   "execution_count": 30,
   "id": "9eda9bb3",
   "metadata": {},
   "outputs": [
    {
     "data": {
      "text/plain": [
       "<AxesSubplot:>"
      ]
     },
     "execution_count": 30,
     "metadata": {},
     "output_type": "execute_result"
    },
    {
     "data": {
      "image/png": "[encoded data removed]",
      "text/plain": [
       "<Figure size 432x288 with 1 Axes>"
      ]
     },
     "metadata": {
      "needs_background": "light"
     },
     "output_type": "display_data"
    }
   ],
   "source": [
    "df.boxplot(column = 'Sub3')"
   ]
  },
  {
   "cell_type": "code",
   "execution_count": 31,
   "id": "b6f30203",
   "metadata": {},
   "outputs": [],
   "source": [
    "Q1 = df['Sub4'].quantile(0.25)\n",
    "Q2 = df['Sub4'].quantile(0.75)\n",
    "IQR = Q3-Q1\n",
    "lower_limit = Q1-1.5*IQR\n",
    "upper_limit = Q3+1.5*IQR\n",
    "med = df.loc[(df['Sub4']>lower_limit)&(df['Sub4']<upper_limit), 'Sub4'].median()\n",
    "df['Sub4'] = np.where((df['Sub4']<lower_limit)|(df['Sub4']>upper_limit), med, df['Sub4'])"
   ]
  },
  {
   "cell_type": "code",
   "execution_count": 41,
   "id": "2a94772f",
   "metadata": {},
   "outputs": [],
   "source": [
    "df['Sub1'].fillna(df['Sub1'].mean(), inplace=True)\n",
    "df['Sub2'].fillna(df['Sub2'].mean(), inplace=True)\n",
    "df['Sub3'].fillna(df['Sub3'].mean(), inplace=True)\n",
    "df['Sub4'].fillna(df['Sub4'].mean(), inplace=True)"
   ]
  },
  {
   "cell_type": "code",
   "execution_count": 42,
   "id": "0b89b657",
   "metadata": {},
   "outputs": [
    {
     "data": {
      "text/plain": [
       "<AxesSubplot:>"
      ]
     },
     "execution_count": 42,
     "metadata": {},
     "output_type": "execute_result"
    },
    {
     "data": {
      "image/png": "[encoded data removed]",
      "text/plain": [
       "<Figure size 432x288 with 1 Axes>"
      ]
     },
     "metadata": {
      "needs_background": "light"
     },
     "output_type": "display_data"
    }
   ],
   "source": [
    "df.boxplot(column = 'Sub4')"
   ]
  },
  {
   "cell_type": "code",
   "execution_count": 43,
   "id": "054416ec",
   "metadata": {},
   "outputs": [],
   "source": [
    "df['Percentage'] = (df['Sub1'] + df['Sub2'] + df['Sub3'] + df['Sub3'])/4"
   ]
  },
  {
   "cell_type": "code",
   "execution_count": 44,
   "id": "e094b452",
   "metadata": {},
   "outputs": [
    {
     "data": {
      "text/plain": [
       "<AxesSubplot:>"
      ]
     },
     "execution_count": 44,
     "metadata": {},
     "output_type": "execute_result"
    },
    {
     "data": {
      "image/png": "[encoded data removed]",
      "text/plain": [
       "<Figure size 432x288 with 1 Axes>"
      ]
     },
     "metadata": {
      "needs_background": "light"
     },
     "output_type": "display_data"
    }
   ],
   "source": [
    "df.boxplot(column = 'Percentage')"
   ]
  },
  {
   "cell_type": "code",
   "execution_count": 45,
   "id": "125e1055",
   "metadata": {},
   "outputs": [
    {
     "data": {
      "text/html": [
       "<div>\n",
       "<style scoped>\n",
       "    .dataframe tbody tr th:only-of-type {\n",
       "        vertical-align: middle;\n",
       "    }\n",
       "\n",
       "    .dataframe tbody tr th {\n",
       "        vertical-align: top;\n",
       "    }\n",
       "\n",
       "    .dataframe thead th {\n",
       "        text-align: right;\n",
       "    }\n",
       "</style>\n",
       "<table border=\"1\" class=\"dataframe\">\n",
       "  <thead>\n",
       "    <tr style=\"text-align: right;\">\n",
       "      <th></th>\n",
       "      <th>Sub1</th>\n",
       "      <th>Sub2</th>\n",
       "      <th>Sub3</th>\n",
       "      <th>Sub4</th>\n",
       "    </tr>\n",
       "  </thead>\n",
       "  <tbody>\n",
       "    <tr>\n",
       "      <th>count</th>\n",
       "      <td>98.000000</td>\n",
       "      <td>98.000000</td>\n",
       "      <td>98.000000</td>\n",
       "      <td>98.000000</td>\n",
       "    </tr>\n",
       "    <tr>\n",
       "      <th>mean</th>\n",
       "      <td>0.434154</td>\n",
       "      <td>0.478161</td>\n",
       "      <td>0.513369</td>\n",
       "      <td>0.509470</td>\n",
       "    </tr>\n",
       "    <tr>\n",
       "      <th>std</th>\n",
       "      <td>0.288640</td>\n",
       "      <td>0.290750</td>\n",
       "      <td>0.315841</td>\n",
       "      <td>0.272453</td>\n",
       "    </tr>\n",
       "    <tr>\n",
       "      <th>min</th>\n",
       "      <td>0.000000</td>\n",
       "      <td>0.000000</td>\n",
       "      <td>0.000000</td>\n",
       "      <td>0.000000</td>\n",
       "    </tr>\n",
       "    <tr>\n",
       "      <th>25%</th>\n",
       "      <td>0.200000</td>\n",
       "      <td>0.228571</td>\n",
       "      <td>0.235294</td>\n",
       "      <td>0.314286</td>\n",
       "    </tr>\n",
       "    <tr>\n",
       "      <th>50%</th>\n",
       "      <td>0.417077</td>\n",
       "      <td>0.478161</td>\n",
       "      <td>0.513369</td>\n",
       "      <td>0.509470</td>\n",
       "    </tr>\n",
       "    <tr>\n",
       "      <th>75%</th>\n",
       "      <td>0.635714</td>\n",
       "      <td>0.757143</td>\n",
       "      <td>0.764706</td>\n",
       "      <td>0.685714</td>\n",
       "    </tr>\n",
       "    <tr>\n",
       "      <th>max</th>\n",
       "      <td>1.000000</td>\n",
       "      <td>1.000000</td>\n",
       "      <td>1.000000</td>\n",
       "      <td>1.000000</td>\n",
       "    </tr>\n",
       "  </tbody>\n",
       "</table>\n",
       "</div>"
      ],
      "text/plain": [
       "            Sub1       Sub2       Sub3       Sub4\n",
       "count  98.000000  98.000000  98.000000  98.000000\n",
       "mean    0.434154   0.478161   0.513369   0.509470\n",
       "std     0.288640   0.290750   0.315841   0.272453\n",
       "min     0.000000   0.000000   0.000000   0.000000\n",
       "25%     0.200000   0.228571   0.235294   0.314286\n",
       "50%     0.417077   0.478161   0.513369   0.509470\n",
       "75%     0.635714   0.757143   0.764706   0.685714\n",
       "max     1.000000   1.000000   1.000000   1.000000"
      ]
     },
     "execution_count": 45,
     "metadata": {},
     "output_type": "execute_result"
    }
   ],
   "source": [
    "from sklearn.preprocessing import MinMaxScaler\n",
    "scaler = MinMaxScaler()\n",
    "cols = ['Sub1', 'Sub2', 'Sub3', 'Sub4']\n",
    "scaler.fit(df[cols])\n",
    "df[cols] = scaler.transform(df[cols])\n",
    "df[cols].describe()"
   ]
  },
  {
   "cell_type": "code",
   "execution_count": 46,
   "id": "c922b26a",
   "metadata": {},
   "outputs": [
    {
     "data": {
      "text/html": [
       "<div>\n",
       "<style scoped>\n",
       "    .dataframe tbody tr th:only-of-type {\n",
       "        vertical-align: middle;\n",
       "    }\n",
       "\n",
       "    .dataframe tbody tr th {\n",
       "        vertical-align: top;\n",
       "    }\n",
       "\n",
       "    .dataframe thead th {\n",
       "        text-align: right;\n",
       "    }\n",
       "</style>\n",
       "<table border=\"1\" class=\"dataframe\">\n",
       "  <thead>\n",
       "    <tr style=\"text-align: right;\">\n",
       "      <th></th>\n",
       "      <th>Roll_No</th>\n",
       "      <th>First Name</th>\n",
       "      <th>Last Name</th>\n",
       "      <th>Gender</th>\n",
       "      <th>Age</th>\n",
       "      <th>Total Subjects</th>\n",
       "      <th>Sub1</th>\n",
       "      <th>Sub2</th>\n",
       "      <th>Sub3</th>\n",
       "      <th>Sub4</th>\n",
       "      <th>Percentage</th>\n",
       "    </tr>\n",
       "  </thead>\n",
       "  <tbody>\n",
       "    <tr>\n",
       "      <th>0</th>\n",
       "      <td>1</td>\n",
       "      <td>Ethan</td>\n",
       "      <td>Smith</td>\n",
       "      <td>M</td>\n",
       "      <td>21</td>\n",
       "      <td>4</td>\n",
       "      <td>0.171429</td>\n",
       "      <td>0.228571</td>\n",
       "      <td>0.264706</td>\n",
       "      <td>0.942857</td>\n",
       "      <td>0.232353</td>\n",
       "    </tr>\n",
       "    <tr>\n",
       "      <th>1</th>\n",
       "      <td>2</td>\n",
       "      <td>Jacob</td>\n",
       "      <td>Johnson</td>\n",
       "      <td>M</td>\n",
       "      <td>20</td>\n",
       "      <td>4</td>\n",
       "      <td>0.857143</td>\n",
       "      <td>0.514286</td>\n",
       "      <td>0.000000</td>\n",
       "      <td>0.257143</td>\n",
       "      <td>0.342857</td>\n",
       "    </tr>\n",
       "    <tr>\n",
       "      <th>2</th>\n",
       "      <td>3</td>\n",
       "      <td>Logan</td>\n",
       "      <td>Williams</td>\n",
       "      <td>M</td>\n",
       "      <td>19</td>\n",
       "      <td>4</td>\n",
       "      <td>0.200000</td>\n",
       "      <td>0.478161</td>\n",
       "      <td>0.852941</td>\n",
       "      <td>0.200000</td>\n",
       "      <td>0.596011</td>\n",
       "    </tr>\n",
       "    <tr>\n",
       "      <th>3</th>\n",
       "      <td>4</td>\n",
       "      <td>Jack</td>\n",
       "      <td>Brown</td>\n",
       "      <td>M</td>\n",
       "      <td>21</td>\n",
       "      <td>4</td>\n",
       "      <td>0.371429</td>\n",
       "      <td>0.114286</td>\n",
       "      <td>0.235294</td>\n",
       "      <td>0.342857</td>\n",
       "      <td>0.239076</td>\n",
       "    </tr>\n",
       "    <tr>\n",
       "      <th>4</th>\n",
       "      <td>5</td>\n",
       "      <td>Emily</td>\n",
       "      <td>Jones</td>\n",
       "      <td>F</td>\n",
       "      <td>21</td>\n",
       "      <td>4</td>\n",
       "      <td>0.200000</td>\n",
       "      <td>0.000000</td>\n",
       "      <td>0.513369</td>\n",
       "      <td>0.685714</td>\n",
       "      <td>0.306684</td>\n",
       "    </tr>\n",
       "  </tbody>\n",
       "</table>\n",
       "</div>"
      ],
      "text/plain": [
       "   Roll_No First Name Last Name Gender  Age  Total Subjects      Sub1  \\\n",
       "0        1      Ethan     Smith      M   21               4  0.171429   \n",
       "1        2      Jacob   Johnson      M   20               4  0.857143   \n",
       "2        3      Logan  Williams      M   19               4  0.200000   \n",
       "3        4       Jack     Brown      M   21               4  0.371429   \n",
       "4        5      Emily     Jones      F   21               4  0.200000   \n",
       "\n",
       "       Sub2      Sub3      Sub4  Percentage  \n",
       "0  0.228571  0.264706  0.942857    0.232353  \n",
       "1  0.514286  0.000000  0.257143    0.342857  \n",
       "2  0.478161  0.852941  0.200000    0.596011  \n",
       "3  0.114286  0.235294  0.342857    0.239076  \n",
       "4  0.000000  0.513369  0.685714    0.306684  "
      ]
     },
     "execution_count": 46,
     "metadata": {},
     "output_type": "execute_result"
    }
   ],
   "source": [
    "df.head()"
   ]
  },
  {
   "cell_type": "code",
   "execution_count": null,
   "id": "7492f39a",
   "metadata": {},
   "outputs": [],
   "source": []
  }
 ],
 "metadata": {
  "kernelspec": {
   "display_name": "Python 3 (ipykernel)",
   "language": "python",
   "name": "python3"
  },
  "language_info": {
   "codemirror_mode": {
    "name": "ipython",
    "version": 3
   },
   "file_extension": ".py",
   "mimetype": "text/x-python",
   "name": "python",
   "nbconvert_exporter": "python",
   "pygments_lexer": "ipython3",
   "version": "3.9.7"
  }
 },
 "nbformat": 4,
 "nbformat_minor": 5
}
