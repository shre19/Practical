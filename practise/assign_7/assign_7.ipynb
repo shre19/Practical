{
 "cells": [
  {
   "cell_type": "code",
   "execution_count": 4,
   "id": "1c7654d0",
   "metadata": {},
   "outputs": [
    {
     "name": "stderr",
     "output_type": "stream",
     "text": [
      "[nltk_data] Downloading package wordnet to\n",
      "[nltk_data]     C:\\Users\\Dell\\AppData\\Roaming\\nltk_data...\n",
      "[nltk_data]   Package wordnet is already up-to-date!\n",
      "[nltk_data] Downloading package punkt to\n",
      "[nltk_data]     C:\\Users\\Dell\\AppData\\Roaming\\nltk_data...\n",
      "[nltk_data]   Unzipping tokenizers\\punkt.zip.\n"
     ]
    },
    {
     "data": {
      "text/plain": [
       "True"
      ]
     },
     "execution_count": 4,
     "metadata": {},
     "output_type": "execute_result"
    }
   ],
   "source": [
    "import pandas as pd\n",
    "import numpy as np\n",
    "import nltk\n",
    "nltk.download('wordnet')\n",
    "nltk.download('punkt')"
   ]
  },
  {
   "cell_type": "code",
   "execution_count": 5,
   "id": "e696c2c3",
   "metadata": {},
   "outputs": [
    {
     "data": {
      "text/plain": [
       "'Hello everyone! This is a text analysis assignment. We will be using preprocessing methods like Tokenization, POS tagging , stop words removal, stemming and lemmatization.'"
      ]
     },
     "execution_count": 5,
     "metadata": {},
     "output_type": "execute_result"
    }
   ],
   "source": [
    "text = open('text_doc.txt').read()\n",
    "text"
   ]
  },
  {
   "cell_type": "markdown",
   "id": "8a5b1650",
   "metadata": {},
   "source": [
    "## Tokenization\n",
    "### Tokenization is the process of separating words form sentence"
   ]
  },
  {
   "cell_type": "code",
   "execution_count": 9,
   "id": "6a7c743c",
   "metadata": {},
   "outputs": [
    {
     "name": "stdout",
     "output_type": "stream",
     "text": [
      "['Hello', 'everyone', '!', 'This', 'is', 'a', 'text', 'analysis', 'assignment', '.', 'We', 'will', 'be', 'using', 'preprocessing', 'methods', 'like', 'Tokenization', ',', 'POS', 'tagging', ',', 'stop', 'words', 'removal', ',', 'stemming', 'and', 'lemmatization', '.']\n"
     ]
    }
   ],
   "source": [
    "token_words = nltk.word_tokenize(text)\n",
    "print(token_words)"
   ]
  },
  {
   "cell_type": "markdown",
   "id": "c20a5fd0",
   "metadata": {},
   "source": [
    "### Pos tagging\n",
    "### Labeling of the words according to their words types"
   ]
  },
  {
   "cell_type": "code",
   "execution_count": 13,
   "id": "db91346f",
   "metadata": {},
   "outputs": [
    {
     "name": "stdout",
     "output_type": "stream",
     "text": [
      "[('Hello', 'NNP'), ('everyone', 'NN'), ('!', '.'), ('This', 'DT'), ('is', 'VBZ'), ('a', 'DT'), ('text', 'JJ'), ('analysis', 'NN'), ('assignment', 'NN'), ('.', '.'), ('We', 'PRP'), ('will', 'MD'), ('be', 'VB'), ('using', 'VBG'), ('preprocessing', 'VBG'), ('methods', 'NNS'), ('like', 'IN'), ('Tokenization', 'NNP'), (',', ','), ('POS', 'NNP'), ('tagging', 'NN'), (',', ','), ('stop', 'VB'), ('words', 'NNS'), ('removal', 'JJ'), (',', ','), ('stemming', 'VBG'), ('and', 'CC'), ('lemmatization', 'NN'), ('.', '.')]\n"
     ]
    }
   ],
   "source": [
    "tagged = nltk.pos_tag(token_words)\n",
    "print(tagged)"
   ]
  },
  {
   "cell_type": "markdown",
   "id": "d3eb2b96",
   "metadata": {},
   "source": [
    "###  Stop words removal\n",
    "#### It is a process of removing  words which don't have strong meaning like articles , 'and', \"it's\""
   ]
  },
  {
   "cell_type": "code",
   "execution_count": 14,
   "id": "48cbedd3",
   "metadata": {},
   "outputs": [],
   "source": [
    "from nltk.corpus import stopwords"
   ]
  },
  {
   "cell_type": "code",
   "execution_count": 18,
   "id": "db346693",
   "metadata": {},
   "outputs": [
    {
     "name": "stdout",
     "output_type": "stream",
     "text": [
      "['i', 'me', 'my', 'myself', 'we', 'our', 'ours', 'ourselves', 'you', \"you're\"]\n"
     ]
    },
    {
     "data": {
      "text/plain": [
       "179"
      ]
     },
     "execution_count": 18,
     "metadata": {},
     "output_type": "execute_result"
    }
   ],
   "source": [
    "stop_words = stopwords.words('english')\n",
    "print(stop_words[:10])\n",
    "len(stop_words)"
   ]
  },
  {
   "cell_type": "code",
   "execution_count": 24,
   "id": "2bc86488",
   "metadata": {},
   "outputs": [
    {
     "name": "stdout",
     "output_type": "stream",
     "text": [
      "['hello', 'everyone', '!', 'this', 'is', 'a', 'text', 'analysis', 'assignment', '.', 'we', 'will', 'be', 'using', 'preprocessing', 'methods', 'like', 'tokenization', ',', 'pos', 'tagging', ',', 'stop', 'words', 'removal', ',', 'stemming', 'and', 'lemmatization', '.']\n"
     ]
    }
   ],
   "source": [
    "tokens = []\n",
    "for word in token_words:\n",
    "    tokens.append(word.lower())\n",
    "print(tokens)"
   ]
  },
  {
   "cell_type": "code",
   "execution_count": 25,
   "id": "db5c4c70",
   "metadata": {},
   "outputs": [
    {
     "name": "stdout",
     "output_type": "stream",
     "text": [
      "['hello', 'everyone', '!', 'text', 'analysis', 'assignment', '.', 'using', 'preprocessing', 'methods', 'like', 'tokenization', ',', 'pos', 'tagging', ',', 'stop', 'words', 'removal', ',', 'stemming', 'lemmatization', '.']\n"
     ]
    }
   ],
   "source": [
    "clean_tokens = []\n",
    "for i in tokens:\n",
    "    if i not in stop_words:\n",
    "        clean_tokens.append(i)\n",
    "print(clean_tokens)"
   ]
  },
  {
   "cell_type": "markdown",
   "id": "e4bbc2da",
   "metadata": {},
   "source": [
    "### Stemming\n",
    "#### Stemmingn is the process of finding the root form of the word"
   ]
  },
  {
   "cell_type": "code",
   "execution_count": 26,
   "id": "c22eff3d",
   "metadata": {},
   "outputs": [],
   "source": [
    "from nltk.stem import PorterStemmer"
   ]
  },
  {
   "cell_type": "code",
   "execution_count": 27,
   "id": "a3ccb1ed",
   "metadata": {},
   "outputs": [
    {
     "name": "stdout",
     "output_type": "stream",
     "text": [
      "['hello', 'everyon', '!', 'text', 'analysi', 'assign', '.', 'use', 'preprocess', 'method', 'like', 'token', ',', 'po', 'tag', ',', 'stop', 'word', 'remov', ',', 'stem', 'lemmat', '.']\n"
     ]
    }
   ],
   "source": [
    "stemmer = PorterStemmer()\n",
    "stem_token = []\n",
    "for word in clean_tokens:\n",
    "    stem_token.append(stemmer.stem(word))\n",
    "print(stem_token)"
   ]
  },
  {
   "cell_type": "markdown",
   "id": "d6166b87",
   "metadata": {},
   "source": [
    "### Lemmatization\n",
    "#### Lemmatization is find the the root form of the word which has meaning "
   ]
  },
  {
   "cell_type": "code",
   "execution_count": 32,
   "id": "97e4b004",
   "metadata": {},
   "outputs": [],
   "source": [
    "from nltk.stem import WordNetLemmatizer\n",
    "lemmatizer = WordNetLemmatizer()"
   ]
  },
  {
   "cell_type": "code",
   "execution_count": 33,
   "id": "97d41dd5",
   "metadata": {},
   "outputs": [
    {
     "name": "stdout",
     "output_type": "stream",
     "text": [
      "['hello', 'everyone', '!', 'text', 'analysis', 'assignment', '.', 'using', 'preprocessing', 'method', 'like', 'tokenization', ',', 'po', 'tagging', ',', 'stop', 'word', 'removal', ',', 'stemming', 'lemmatization', '.']\n"
     ]
    }
   ],
   "source": [
    "lemmatized_token = []\n",
    "for word in clean_tokens:\n",
    "    lemmatized_token.append(lemmatizer.lemmatize(word))\n",
    "print(lemmatized_token)"
   ]
  },
  {
   "cell_type": "markdown",
   "id": "c143504c",
   "metadata": {},
   "source": [
    "## Term Frequency and Inveerse Document Frequency"
   ]
  },
  {
   "cell_type": "code",
   "execution_count": 38,
   "id": "d33ec558",
   "metadata": {},
   "outputs": [
    {
     "name": "stdout",
     "output_type": "stream",
     "text": [
      "27\n",
      "{'stemming', 'This', 'Hello', 'a', 'like', 'be', ',', '.', 'preprocessing', 'words', 'removal', 'will', 'and', 'Tokenization', 'text', '!', 'POS', 'is', 'We', 'lemmatization', 'analysis', 'everyone', 'stop', 'tagging', 'using', 'assignment', 'methods'}\n"
     ]
    }
   ],
   "source": [
    "corpus = token_words\n",
    "set_words = set(corpus)\n",
    "print(len(set_words))\n",
    "print(set_words)"
   ]
  },
  {
   "cell_type": "markdown",
   "id": "ec176d76",
   "metadata": {},
   "source": [
    "### Term frequency = count of term in document / number of words in document"
   ]
  },
  {
   "cell_type": "code",
   "execution_count": 43,
   "id": "3fb03e90",
   "metadata": {},
   "outputs": [],
   "source": [
    "token_words.append('a')\n",
    "numwords = dict.fromkeys(set_words, 0)\n",
    "for word in token_words:\n",
    "    numwords[word] += 1"
   ]
  },
  {
   "cell_type": "code",
   "execution_count": 44,
   "id": "fc20f59c",
   "metadata": {},
   "outputs": [
    {
     "name": "stdout",
     "output_type": "stream",
     "text": [
      "{'stemming': 1, 'This': 1, 'Hello': 1, 'a': 3, 'like': 1, 'be': 1, ',': 3, '.': 2, 'preprocessing': 1, 'words': 1, 'removal': 1, 'will': 1, 'and': 1, 'Tokenization': 1, 'text': 1, '!': 1, 'POS': 1, 'is': 1, 'We': 1, 'lemmatization': 1, 'analysis': 1, 'everyone': 1, 'stop': 1, 'tagging': 1, 'using': 1, 'assignment': 1, 'methods': 1}\n"
     ]
    }
   ],
   "source": [
    "print(numwords)"
   ]
  },
  {
   "cell_type": "code",
   "execution_count": 59,
   "id": "f90e5d18",
   "metadata": {},
   "outputs": [
    {
     "data": {
      "text/plain": [
       "{'stemming': 0.03125,\n",
       " 'This': 0.03125,\n",
       " 'Hello': 0.03125,\n",
       " 'a': 0.09375,\n",
       " 'like': 0.03125,\n",
       " 'be': 0.03125,\n",
       " ',': 0.09375,\n",
       " '.': 0.0625,\n",
       " 'preprocessing': 0.03125,\n",
       " 'words': 0.03125,\n",
       " 'removal': 0.03125,\n",
       " 'will': 0.03125,\n",
       " 'and': 0.03125,\n",
       " 'Tokenization': 0.03125,\n",
       " 'text': 0.03125,\n",
       " '!': 0.03125,\n",
       " 'POS': 0.03125,\n",
       " 'is': 0.03125,\n",
       " 'We': 0.03125,\n",
       " 'lemmatization': 0.03125,\n",
       " 'analysis': 0.03125,\n",
       " 'everyone': 0.03125,\n",
       " 'stop': 0.03125,\n",
       " 'tagging': 0.03125,\n",
       " 'using': 0.03125,\n",
       " 'assignment': 0.03125,\n",
       " 'methods': 0.03125}"
      ]
     },
     "execution_count": 59,
     "metadata": {},
     "output_type": "execute_result"
    }
   ],
   "source": [
    "tfDict = {}\n",
    "cnt = len(token_words)\n",
    "for word, count in numwords.items():\n",
    "    tfDict[word] = count/cnt\n",
    "tfDict"
   ]
  },
  {
   "cell_type": "code",
   "execution_count": 58,
   "id": "50473af4",
   "metadata": {},
   "outputs": [
    {
     "data": {
      "text/plain": [
       "{'stemming': 3.4657359027997265,\n",
       " 'This': 3.4657359027997265,\n",
       " 'Hello': 3.4657359027997265,\n",
       " 'a': 2.367123614131617,\n",
       " 'like': 3.4657359027997265,\n",
       " 'be': 3.4657359027997265,\n",
       " ',': 2.367123614131617,\n",
       " '.': 2.772588722239781,\n",
       " 'preprocessing': 3.4657359027997265,\n",
       " 'words': 3.4657359027997265,\n",
       " 'removal': 3.4657359027997265,\n",
       " 'will': 3.4657359027997265,\n",
       " 'and': 3.4657359027997265,\n",
       " 'Tokenization': 3.4657359027997265,\n",
       " 'text': 3.4657359027997265,\n",
       " '!': 3.4657359027997265,\n",
       " 'POS': 3.4657359027997265,\n",
       " 'is': 3.4657359027997265,\n",
       " 'We': 3.4657359027997265,\n",
       " 'lemmatization': 3.4657359027997265,\n",
       " 'analysis': 3.4657359027997265,\n",
       " 'everyone': 3.4657359027997265,\n",
       " 'stop': 3.4657359027997265,\n",
       " 'tagging': 3.4657359027997265,\n",
       " 'using': 3.4657359027997265,\n",
       " 'assignment': 3.4657359027997265,\n",
       " 'methods': 3.4657359027997265}"
      ]
     },
     "execution_count": 58,
     "metadata": {},
     "output_type": "execute_result"
    }
   ],
   "source": [
    "import math\n",
    "n = len(token_words)\n",
    "\n",
    "idfDict = dict.fromkeys(set_words ,0)\n",
    "\n",
    "for word in token_words:\n",
    "    idfDict[word]+=1\n",
    "    \n",
    "for word, val in idfDict.items():\n",
    "    idfDict[word] = math.log(n/val)\n",
    "idfDict"
   ]
  },
  {
   "cell_type": "code",
   "execution_count": null,
   "id": "6ae29bf5",
   "metadata": {},
   "outputs": [],
   "source": []
  }
 ],
 "metadata": {
  "kernelspec": {
   "display_name": "Python 3 (ipykernel)",
   "language": "python",
   "name": "python3"
  },
  "language_info": {
   "codemirror_mode": {
    "name": "ipython",
    "version": 3
   },
   "file_extension": ".py",
   "mimetype": "text/x-python",
   "name": "python",
   "nbconvert_exporter": "python",
   "pygments_lexer": "ipython3",
   "version": "3.9.7"
  }
 },
 "nbformat": 4,
 "nbformat_minor": 5
}
