!pip install numpy pandas

!pip install seaborn matplotlib

import pandas as pd
titanic = pd.read_csv('train.csv')

titanic.head()

titanic.isnull().sum()





import seaborn as sns
import matplotlib.pyplot as plt

sns.catplot(x ="Sex", hue ="Survived",
kind ="count", data = titanic)

### A heatmap showing the correlations for the entire dataset

sns.heatmap(titanic.corr(),cmap='coolwarm')
plt.title('titanic.corr()')

g = sns.FacetGrid(data=titanic,col='Sex')
g.map(plt.hist,'Age')

#### It can be seen that the survival rate of men is around 20% and that of women is around 75%. 

### Passanger Class vs survived

group = titanic.groupby(['Pclass', 'Survived'])
pclass_survived = group.size().unstack()

sns.heatmap(pclass_survived, annot = True, fmt ="d")

sns.barplot(x="Pclass", y = "Survived", data=titanic)

#### It can be estimated that Class 1 passengers have a higher survival chance compared to classes 2 and 3.

titanic['Fare_Range'] = pd.qcut(titanic['Fare'], 4)

sns.barplot(x ='Fare_Range', y ='Survived',
data = titanic)

